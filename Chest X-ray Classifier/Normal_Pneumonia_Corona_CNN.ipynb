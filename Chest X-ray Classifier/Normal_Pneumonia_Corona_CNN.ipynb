{
 "cells": [
  {
   "cell_type": "markdown",
   "metadata": {},
   "source": [
    "# Normal Pneumonia Corona Chest X-ray Classification"
   ]
  },
  {
   "cell_type": "code",
   "execution_count": 1,
   "metadata": {},
   "outputs": [],
   "source": [
    "import keras\n",
    "from keras.preprocessing.image import ImageDataGenerator\n",
    "from keras.models import Sequential\n",
    "from keras.layers import Dense, Conv2D, MaxPooling2D, Flatten, Dropout, Input, Activation, ZeroPadding2D, BatchNormalization\n",
    "from keras.optimizers import Adam\n",
    "from sklearn.metrics import accuracy_score\n",
    "import pandas as pd\n",
    "import matplotlib.pyplot as plt"
   ]
  },
  {
   "cell_type": "code",
   "execution_count": 2,
   "metadata": {},
   "outputs": [],
   "source": [
    "#building the neural net\n",
    "model = Sequential()\n",
    "model.add(Conv2D(32, (3,3), strides=(1,1), padding='same', input_shape=(64,64,1), activation='relu'))\n",
    "model.add(Conv2D(32, (3,3), strides=(1,1), padding='same', activation='relu'))\n",
    "model.add(BatchNormalization())\n",
    "model.add(MaxPooling2D((2,2)))\n",
    "model.add(Dropout(0.25))\n",
    "\n",
    "model.add(Conv2D(64, (3,3), strides=(1,1), padding='same', activation='relu'))\n",
    "model.add(BatchNormalization())\n",
    "model.add(MaxPooling2D((2,2)))\n",
    "model.add(Dropout(0.25))\n",
    "\n",
    "model.add(Flatten())\n",
    "model.add(Dense(1024, activation='relu'))\n",
    "model.add(BatchNormalization())\n",
    "model.add(Dropout(0.40))\n",
    "model.add(Dense(3, activation='softmax'))"
   ]
  },
  {
   "cell_type": "code",
   "execution_count": 3,
   "metadata": {},
   "outputs": [],
   "source": [
    "#variable for Image Generator to read from separate files \n",
    "gen = ImageDataGenerator()"
   ]
  },
  {
   "cell_type": "code",
   "execution_count": 4,
   "metadata": {},
   "outputs": [
    {
     "name": "stdout",
     "output_type": "stream",
     "text": [
      "Found 5533 images belonging to 3 classes.\n",
      "Found 24 images belonging to 3 classes.\n",
      "Found 669 images belonging to 3 classes.\n"
     ]
    }
   ],
   "source": [
    "#from files load shape, set color to grayscale, shuffle images for seed, batch size\n",
    "train_batches = gen.flow_from_directory(\"chest_xray/train_all\",model.input_shape[1:3],color_mode=\"grayscale\",shuffle=True,seed=1,\n",
    "                                        batch_size=16)\n",
    "valid_batches = gen.flow_from_directory(\"chest_xray/val\", model.input_shape[1:3],color_mode=\"grayscale\", shuffle=True,seed=1,\n",
    "                                        batch_size=24)\n",
    "test_batches = gen.flow_from_directory(\"chest_xray/test\", model.input_shape[1:3], shuffle=False,\n",
    "                                       color_mode=\"grayscale\", batch_size=8)\n"
   ]
  },
  {
   "cell_type": "code",
   "execution_count": null,
   "metadata": {},
   "outputs": [],
   "source": []
  },
  {
   "cell_type": "code",
   "execution_count": 5,
   "metadata": {},
   "outputs": [],
   "source": [
    "#compile the model\n",
    "model.compile(Adam(lr=0.001),loss=\"categorical_crossentropy\", metrics=[\"accuracy\"])"
   ]
  },
  {
   "cell_type": "code",
   "execution_count": 6,
   "metadata": {},
   "outputs": [
    {
     "name": "stdout",
     "output_type": "stream",
     "text": [
      "Weight for class 0: 2.44\n",
      "Weight for class 1: 0.85\n",
      "Weight for class 2: 8.81\n"
     ]
    }
   ],
   "source": [
    "#class imbalance\n",
    "#create weights for class imbalance\n",
    "import numpy as np\n",
    "COUNT_PNEUMONIA=3875\n",
    "COUNT_NORMAL=1341\n",
    "COUNT_CORONA=248\n",
    "TRAIN_IMG_COUNT=COUNT_NORMAL+COUNT_PNEUMONIA+COUNT_NORMAL\n",
    "#initial_bias = np.log([COUNT_PNEUMONIA/COUNT_NORMAL])\n",
    "#initial_bias\n",
    "weight_for_0 = (1 / COUNT_NORMAL)*(TRAIN_IMG_COUNT)/2.0 \n",
    "weight_for_1 = (1 / COUNT_PNEUMONIA)*(TRAIN_IMG_COUNT)/2.0\n",
    "weight_for_2 = (1 / COUNT_CORONA)*(TRAIN_IMG_COUNT)/3.0\n",
    "\n",
    "class_weight = {0: weight_for_0, 1: weight_for_1,2: weight_for_2}\n",
    "\n",
    "print('Weight for class 0: {:.2f}'.format(weight_for_0))\n",
    "print('Weight for class 1: {:.2f}'.format(weight_for_1))\n",
    "print('Weight for class 2: {:.2f}'.format(weight_for_2))"
   ]
  },
  {
   "cell_type": "code",
   "execution_count": 7,
   "metadata": {},
   "outputs": [
    {
     "name": "stdout",
     "output_type": "stream",
     "text": [
      "Epoch 1/30\n",
      "16/16 [==============================] - 5s 294ms/step - loss: 3.1222 - accuracy: 0.5781 - val_loss: 4.5270 - val_accuracy: 0.5417\n",
      "Epoch 2/30\n",
      "16/16 [==============================] - 5s 296ms/step - loss: 1.8272 - accuracy: 0.6953 - val_loss: 7.4008 - val_accuracy: 0.3333\n",
      "Epoch 3/30\n",
      "16/16 [==============================] - 4s 264ms/step - loss: 0.7844 - accuracy: 0.8242 - val_loss: 2.0691 - val_accuracy: 0.5833\n",
      "Epoch 4/30\n",
      "16/16 [==============================] - 4s 268ms/step - loss: 0.9728 - accuracy: 0.7695 - val_loss: 0.5496 - val_accuracy: 0.7917\n",
      "Epoch 5/30\n",
      "16/16 [==============================] - 4s 277ms/step - loss: 0.4931 - accuracy: 0.8398 - val_loss: 3.4906 - val_accuracy: 0.6250\n",
      "Epoch 6/30\n",
      "16/16 [==============================] - 4s 254ms/step - loss: 0.7161 - accuracy: 0.8125 - val_loss: 1.3343 - val_accuracy: 0.6667\n",
      "Epoch 7/30\n",
      "16/16 [==============================] - 5s 292ms/step - loss: 0.8915 - accuracy: 0.8398 - val_loss: 0.8608 - val_accuracy: 0.7500\n",
      "Epoch 8/30\n",
      "16/16 [==============================] - 4s 281ms/step - loss: 0.6077 - accuracy: 0.8711 - val_loss: 0.3045 - val_accuracy: 0.9167\n",
      "Epoch 9/30\n",
      "16/16 [==============================] - 4s 266ms/step - loss: 0.5015 - accuracy: 0.8477 - val_loss: 0.4109 - val_accuracy: 0.8750\n",
      "Epoch 10/30\n",
      "16/16 [==============================] - 4s 262ms/step - loss: 0.5510 - accuracy: 0.8750 - val_loss: 0.7053 - val_accuracy: 0.7917\n",
      "Epoch 11/30\n",
      "16/16 [==============================] - 4s 265ms/step - loss: 0.5775 - accuracy: 0.8281 - val_loss: 0.7025 - val_accuracy: 0.8750\n",
      "Epoch 12/30\n",
      "16/16 [==============================] - 4s 250ms/step - loss: 0.4035 - accuracy: 0.8672 - val_loss: 0.4513 - val_accuracy: 0.7917\n",
      "Epoch 13/30\n",
      "16/16 [==============================] - 4s 275ms/step - loss: 0.3717 - accuracy: 0.9180 - val_loss: 0.2783 - val_accuracy: 0.8333\n",
      "Epoch 14/30\n",
      "16/16 [==============================] - 4s 263ms/step - loss: 0.4332 - accuracy: 0.8828 - val_loss: 0.2567 - val_accuracy: 0.8750\n",
      "Epoch 15/30\n",
      "16/16 [==============================] - 4s 256ms/step - loss: 0.3814 - accuracy: 0.9414 - val_loss: 1.0786 - val_accuracy: 0.5833\n",
      "Epoch 16/30\n",
      "16/16 [==============================] - 4s 278ms/step - loss: 0.3343 - accuracy: 0.8906 - val_loss: 0.8341 - val_accuracy: 0.6667\n",
      "Epoch 17/30\n",
      "16/16 [==============================] - 4s 244ms/step - loss: 0.3428 - accuracy: 0.9102 - val_loss: 0.1927 - val_accuracy: 0.9167\n",
      "Epoch 18/30\n",
      "16/16 [==============================] - 4s 263ms/step - loss: 0.2954 - accuracy: 0.9375 - val_loss: 1.3103 - val_accuracy: 0.6667\n",
      "Epoch 19/30\n",
      "16/16 [==============================] - 4s 263ms/step - loss: 0.3746 - accuracy: 0.8867 - val_loss: 0.5799 - val_accuracy: 0.7500\n",
      "Epoch 20/30\n",
      "16/16 [==============================] - 5s 317ms/step - loss: 0.3332 - accuracy: 0.9258 - val_loss: 0.4953 - val_accuracy: 0.7917\n",
      "Epoch 21/30\n",
      "16/16 [==============================] - 4s 244ms/step - loss: 0.3873 - accuracy: 0.9219 - val_loss: 0.9069 - val_accuracy: 0.6667\n",
      "Epoch 22/30\n",
      "16/16 [==============================] - 4s 269ms/step - loss: 0.3419 - accuracy: 0.9219 - val_loss: 0.7758 - val_accuracy: 0.7500\n",
      "Epoch 23/30\n",
      "16/16 [==============================] - 4s 264ms/step - loss: 0.3654 - accuracy: 0.9375 - val_loss: 1.7842 - val_accuracy: 0.6250\n",
      "Epoch 24/30\n",
      "16/16 [==============================] - 4s 249ms/step - loss: 0.6372 - accuracy: 0.8750 - val_loss: 0.2339 - val_accuracy: 0.8750\n",
      "Epoch 25/30\n",
      "16/16 [==============================] - 4s 272ms/step - loss: 0.2537 - accuracy: 0.9492 - val_loss: 0.4976 - val_accuracy: 0.8750\n",
      "Epoch 26/30\n",
      "16/16 [==============================] - 4s 262ms/step - loss: 0.2756 - accuracy: 0.8945 - val_loss: 1.2873 - val_accuracy: 0.7083\n",
      "Epoch 27/30\n",
      "16/16 [==============================] - 4s 263ms/step - loss: 0.2370 - accuracy: 0.9375 - val_loss: 0.1899 - val_accuracy: 0.9583\n",
      "Epoch 28/30\n",
      "16/16 [==============================] - 4s 250ms/step - loss: 0.2573 - accuracy: 0.9336 - val_loss: 2.0601 - val_accuracy: 0.7083\n",
      "Epoch 29/30\n",
      "16/16 [==============================] - 4s 273ms/step - loss: 0.3239 - accuracy: 0.8789 - val_loss: 0.2578 - val_accuracy: 0.8333\n",
      "Epoch 30/30\n",
      "16/16 [==============================] - 4s 266ms/step - loss: 0.3420 - accuracy: 0.9336 - val_loss: 0.1182 - val_accuracy: 0.9583\n"
     ]
    }
   ],
   "source": [
    "#fit the model\n",
    "hist=model.fit(train_batches,validation_data=valid_batches,epochs=30, steps_per_epoch=16, validation_steps=1, class_weight=class_weight)"
   ]
  },
  {
   "cell_type": "code",
   "execution_count": 8,
   "metadata": {},
   "outputs": [
    {
     "data": {
      "text/plain": [
       "[<matplotlib.lines.Line2D at 0x7f5f283dac40>]"
      ]
     },
     "execution_count": 8,
     "metadata": {},
     "output_type": "execute_result"
    },
    {
     "data": {
      "image/png": "[encoded data removed]",
      "text/plain": [
       "<Figure size 432x288 with 1 Axes>"
      ]
     },
     "metadata": {
      "needs_background": "light"
     },
     "output_type": "display_data"
    }
   ],
   "source": [
    "plt.plot(hist.history['loss'])\n"
   ]
  },
  {
   "cell_type": "code",
   "execution_count": 9,
   "metadata": {},
   "outputs": [
    {
     "data": {
      "image/png": "[encoded data removed]",
      "text/plain": [
       "<Figure size 432x288 with 1 Axes>"
      ]
     },
     "metadata": {
      "needs_background": "light"
     },
     "output_type": "display_data"
    }
   ],
   "source": [
    "plt.plot(hist.history['accuracy'], 'ko')\n",
    "plt.plot(hist.history['val_accuracy'], 'b')\n",
    "\n",
    "plt.title('Accuracy vs Training Epoch')\n",
    "plt.xlabel('Epoch')\n",
    "plt.ylabel('Accuracy')\n",
    "plt.legend(['Train', 'Validation']);"
   ]
  },
  {
   "cell_type": "code",
   "execution_count": null,
   "metadata": {},
   "outputs": [],
   "source": []
  },
  {
   "cell_type": "code",
   "execution_count": 10,
   "metadata": {},
   "outputs": [
    {
     "name": "stdout",
     "output_type": "stream",
     "text": [
      "84/84 [==============================] - 6s 73ms/step\n"
     ]
    }
   ],
   "source": [
    "#predict on the model\n",
    "no_steps = len(test_batches)\n",
    "p = model.predict(test_batches, steps=no_steps, verbose=True)\n",
    "pre = pd.DataFrame(p)"
   ]
  },
  {
   "cell_type": "code",
   "execution_count": 11,
   "metadata": {},
   "outputs": [
    {
     "data": {
      "text/html": [
       "<div>\n",
       "<style scoped>\n",
       "    .dataframe tbody tr th:only-of-type {\n",
       "        vertical-align: middle;\n",
       "    }\n",
       "\n",
       "    .dataframe tbody tr th {\n",
       "        vertical-align: top;\n",
       "    }\n",
       "\n",
       "    .dataframe thead th {\n",
       "        text-align: right;\n",
       "    }\n",
       "</style>\n",
       "<table border=\"1\" class=\"dataframe\">\n",
       "  <thead>\n",
       "    <tr style=\"text-align: right;\">\n",
       "      <th></th>\n",
       "      <th>0</th>\n",
       "      <th>1</th>\n",
       "      <th>2</th>\n",
       "    </tr>\n",
       "  </thead>\n",
       "  <tbody>\n",
       "    <tr>\n",
       "      <th>0</th>\n",
       "      <td>1.907542e-02</td>\n",
       "      <td>1.240712e-02</td>\n",
       "      <td>0.968517</td>\n",
       "    </tr>\n",
       "    <tr>\n",
       "      <th>1</th>\n",
       "      <td>7.546164e-01</td>\n",
       "      <td>7.644037e-02</td>\n",
       "      <td>0.168943</td>\n",
       "    </tr>\n",
       "    <tr>\n",
       "      <th>2</th>\n",
       "      <td>1.131955e-02</td>\n",
       "      <td>1.747515e-02</td>\n",
       "      <td>0.971205</td>\n",
       "    </tr>\n",
       "    <tr>\n",
       "      <th>3</th>\n",
       "      <td>1.589842e-02</td>\n",
       "      <td>5.263315e-02</td>\n",
       "      <td>0.931468</td>\n",
       "    </tr>\n",
       "    <tr>\n",
       "      <th>4</th>\n",
       "      <td>2.791253e-01</td>\n",
       "      <td>2.192147e-02</td>\n",
       "      <td>0.698953</td>\n",
       "    </tr>\n",
       "    <tr>\n",
       "      <th>...</th>\n",
       "      <td>...</td>\n",
       "      <td>...</td>\n",
       "      <td>...</td>\n",
       "    </tr>\n",
       "    <tr>\n",
       "      <th>664</th>\n",
       "      <td>2.943599e-07</td>\n",
       "      <td>5.779128e-05</td>\n",
       "      <td>0.999942</td>\n",
       "    </tr>\n",
       "    <tr>\n",
       "      <th>665</th>\n",
       "      <td>1.016459e-08</td>\n",
       "      <td>1.644002e-11</td>\n",
       "      <td>1.000000</td>\n",
       "    </tr>\n",
       "    <tr>\n",
       "      <th>666</th>\n",
       "      <td>1.067291e-06</td>\n",
       "      <td>8.820100e-05</td>\n",
       "      <td>0.999911</td>\n",
       "    </tr>\n",
       "    <tr>\n",
       "      <th>667</th>\n",
       "      <td>4.630333e-06</td>\n",
       "      <td>9.559170e-05</td>\n",
       "      <td>0.999900</td>\n",
       "    </tr>\n",
       "    <tr>\n",
       "      <th>668</th>\n",
       "      <td>1.720864e-06</td>\n",
       "      <td>3.868841e-07</td>\n",
       "      <td>0.999998</td>\n",
       "    </tr>\n",
       "  </tbody>\n",
       "</table>\n",
       "<p>669 rows × 3 columns</p>\n",
       "</div>"
      ],
      "text/plain": [
       "                0             1         2\n",
       "0    1.907542e-02  1.240712e-02  0.968517\n",
       "1    7.546164e-01  7.644037e-02  0.168943\n",
       "2    1.131955e-02  1.747515e-02  0.971205\n",
       "3    1.589842e-02  5.263315e-02  0.931468\n",
       "4    2.791253e-01  2.192147e-02  0.698953\n",
       "..            ...           ...       ...\n",
       "664  2.943599e-07  5.779128e-05  0.999942\n",
       "665  1.016459e-08  1.644002e-11  1.000000\n",
       "666  1.067291e-06  8.820100e-05  0.999911\n",
       "667  4.630333e-06  9.559170e-05  0.999900\n",
       "668  1.720864e-06  3.868841e-07  0.999998\n",
       "\n",
       "[669 rows x 3 columns]"
      ]
     },
     "execution_count": 11,
     "metadata": {},
     "output_type": "execute_result"
    }
   ],
   "source": [
    "pre"
   ]
  },
  {
   "cell_type": "code",
   "execution_count": 12,
   "metadata": {},
   "outputs": [],
   "source": [
    "pre[\"filename\"] = test_batches.filenames"
   ]
  },
  {
   "cell_type": "code",
   "execution_count": 13,
   "metadata": {},
   "outputs": [],
   "source": []
  },
  {
   "cell_type": "code",
   "execution_count": 14,
   "metadata": {},
   "outputs": [],
   "source": [
    "#class prediction results\n",
    "pred=[]\n",
    "for index, row in pre.iterrows():\n",
    "    #print(index, row[0])\n",
    "    max_=pre.max(axis=1)[index]\n",
    "    if row[0]==max_:\n",
    "        pred.append(0)\n",
    "    if row[1]==max_:\n",
    "        pred.append(1)\n",
    "    if row[2]==max_:\n",
    "        pred.append(2)"
   ]
  },
  {
   "cell_type": "code",
   "execution_count": 15,
   "metadata": {},
   "outputs": [
    {
     "data": {
      "text/plain": [
       "669"
      ]
     },
     "execution_count": 15,
     "metadata": {},
     "output_type": "execute_result"
    }
   ],
   "source": [
    "len(pred)"
   ]
  },
  {
   "cell_type": "code",
   "execution_count": 16,
   "metadata": {},
   "outputs": [],
   "source": [
    "#true class results\n",
    "actuals=[]\n",
    "for name in pre['filename']:\n",
    "    if name[0]=='N':\n",
    "        actuals.append(0)\n",
    "    if name[0]==\"P\":\n",
    "        actuals.append(1)\n",
    "    if name[0]=='c':\n",
    "        actuals.append(2)"
   ]
  },
  {
   "cell_type": "code",
   "execution_count": 17,
   "metadata": {},
   "outputs": [],
   "source": [
    "pre['label']=actuals"
   ]
  },
  {
   "cell_type": "code",
   "execution_count": 18,
   "metadata": {},
   "outputs": [],
   "source": [
    "pre['pred']=pred"
   ]
  },
  {
   "cell_type": "code",
   "execution_count": 19,
   "metadata": {},
   "outputs": [
    {
     "data": {
      "text/plain": [
       "669"
      ]
     },
     "execution_count": 19,
     "metadata": {},
     "output_type": "execute_result"
    }
   ],
   "source": [
    "len(actuals)"
   ]
  },
  {
   "cell_type": "code",
   "execution_count": null,
   "metadata": {},
   "outputs": [],
   "source": []
  },
  {
   "cell_type": "code",
   "execution_count": 35,
   "metadata": {
    "scrolled": true
   },
   "outputs": [
    {
     "data": {
      "text/html": [
       "<div>\n",
       "<style scoped>\n",
       "    .dataframe tbody tr th:only-of-type {\n",
       "        vertical-align: middle;\n",
       "    }\n",
       "\n",
       "    .dataframe tbody tr th {\n",
       "        vertical-align: top;\n",
       "    }\n",
       "\n",
       "    .dataframe thead th {\n",
       "        text-align: right;\n",
       "    }\n",
       "</style>\n",
       "<table border=\"1\" class=\"dataframe\">\n",
       "  <thead>\n",
       "    <tr style=\"text-align: right;\">\n",
       "      <th></th>\n",
       "      <th>0</th>\n",
       "      <th>1</th>\n",
       "      <th>2</th>\n",
       "      <th>filename</th>\n",
       "      <th>label</th>\n",
       "      <th>pred</th>\n",
       "    </tr>\n",
       "  </thead>\n",
       "  <tbody>\n",
       "    <tr>\n",
       "      <th>0</th>\n",
       "      <td>0.019075</td>\n",
       "      <td>0.012407</td>\n",
       "      <td>0.968517</td>\n",
       "      <td>NORMAL/IM-0001-0001.jpeg</td>\n",
       "      <td>0</td>\n",
       "      <td>2</td>\n",
       "    </tr>\n",
       "    <tr>\n",
       "      <th>1</th>\n",
       "      <td>0.754616</td>\n",
       "      <td>0.076440</td>\n",
       "      <td>0.168943</td>\n",
       "      <td>NORMAL/IM-0003-0001.jpeg</td>\n",
       "      <td>0</td>\n",
       "      <td>0</td>\n",
       "    </tr>\n",
       "    <tr>\n",
       "      <th>2</th>\n",
       "      <td>0.011320</td>\n",
       "      <td>0.017475</td>\n",
       "      <td>0.971205</td>\n",
       "      <td>NORMAL/IM-0005-0001.jpeg</td>\n",
       "      <td>0</td>\n",
       "      <td>2</td>\n",
       "    </tr>\n",
       "    <tr>\n",
       "      <th>3</th>\n",
       "      <td>0.015898</td>\n",
       "      <td>0.052633</td>\n",
       "      <td>0.931468</td>\n",
       "      <td>NORMAL/IM-0006-0001.jpeg</td>\n",
       "      <td>0</td>\n",
       "      <td>2</td>\n",
       "    </tr>\n",
       "    <tr>\n",
       "      <th>4</th>\n",
       "      <td>0.279125</td>\n",
       "      <td>0.021921</td>\n",
       "      <td>0.698953</td>\n",
       "      <td>NORMAL/IM-0007-0001.jpeg</td>\n",
       "      <td>0</td>\n",
       "      <td>2</td>\n",
       "    </tr>\n",
       "    <tr>\n",
       "      <th>5</th>\n",
       "      <td>0.945404</td>\n",
       "      <td>0.033230</td>\n",
       "      <td>0.021365</td>\n",
       "      <td>NORMAL/IM-0009-0001.jpeg</td>\n",
       "      <td>0</td>\n",
       "      <td>0</td>\n",
       "    </tr>\n",
       "    <tr>\n",
       "      <th>6</th>\n",
       "      <td>0.225123</td>\n",
       "      <td>0.006700</td>\n",
       "      <td>0.768176</td>\n",
       "      <td>NORMAL/IM-0010-0001.jpeg</td>\n",
       "      <td>0</td>\n",
       "      <td>2</td>\n",
       "    </tr>\n",
       "    <tr>\n",
       "      <th>7</th>\n",
       "      <td>0.045109</td>\n",
       "      <td>0.011098</td>\n",
       "      <td>0.943793</td>\n",
       "      <td>NORMAL/IM-0011-0001-0001.jpeg</td>\n",
       "      <td>0</td>\n",
       "      <td>2</td>\n",
       "    </tr>\n",
       "    <tr>\n",
       "      <th>8</th>\n",
       "      <td>0.111525</td>\n",
       "      <td>0.011258</td>\n",
       "      <td>0.877217</td>\n",
       "      <td>NORMAL/IM-0011-0001-0002.jpeg</td>\n",
       "      <td>0</td>\n",
       "      <td>2</td>\n",
       "    </tr>\n",
       "    <tr>\n",
       "      <th>9</th>\n",
       "      <td>0.093846</td>\n",
       "      <td>0.003417</td>\n",
       "      <td>0.902737</td>\n",
       "      <td>NORMAL/IM-0011-0001.jpeg</td>\n",
       "      <td>0</td>\n",
       "      <td>2</td>\n",
       "    </tr>\n",
       "    <tr>\n",
       "      <th>10</th>\n",
       "      <td>0.013809</td>\n",
       "      <td>0.000457</td>\n",
       "      <td>0.985734</td>\n",
       "      <td>NORMAL/IM-0013-0001.jpeg</td>\n",
       "      <td>0</td>\n",
       "      <td>2</td>\n",
       "    </tr>\n",
       "    <tr>\n",
       "      <th>11</th>\n",
       "      <td>0.019189</td>\n",
       "      <td>0.047992</td>\n",
       "      <td>0.932819</td>\n",
       "      <td>NORMAL/IM-0015-0001.jpeg</td>\n",
       "      <td>0</td>\n",
       "      <td>2</td>\n",
       "    </tr>\n",
       "    <tr>\n",
       "      <th>12</th>\n",
       "      <td>0.047986</td>\n",
       "      <td>0.004486</td>\n",
       "      <td>0.947527</td>\n",
       "      <td>NORMAL/IM-0016-0001.jpeg</td>\n",
       "      <td>0</td>\n",
       "      <td>2</td>\n",
       "    </tr>\n",
       "    <tr>\n",
       "      <th>13</th>\n",
       "      <td>0.006931</td>\n",
       "      <td>0.001760</td>\n",
       "      <td>0.991309</td>\n",
       "      <td>NORMAL/IM-0017-0001.jpeg</td>\n",
       "      <td>0</td>\n",
       "      <td>2</td>\n",
       "    </tr>\n",
       "    <tr>\n",
       "      <th>14</th>\n",
       "      <td>0.081451</td>\n",
       "      <td>0.286989</td>\n",
       "      <td>0.631560</td>\n",
       "      <td>NORMAL/IM-0019-0001.jpeg</td>\n",
       "      <td>0</td>\n",
       "      <td>2</td>\n",
       "    </tr>\n",
       "    <tr>\n",
       "      <th>15</th>\n",
       "      <td>0.000142</td>\n",
       "      <td>0.000114</td>\n",
       "      <td>0.999744</td>\n",
       "      <td>NORMAL/IM-0021-0001.jpeg</td>\n",
       "      <td>0</td>\n",
       "      <td>2</td>\n",
       "    </tr>\n",
       "    <tr>\n",
       "      <th>16</th>\n",
       "      <td>0.082037</td>\n",
       "      <td>0.878537</td>\n",
       "      <td>0.039426</td>\n",
       "      <td>NORMAL/IM-0022-0001.jpeg</td>\n",
       "      <td>0</td>\n",
       "      <td>1</td>\n",
       "    </tr>\n",
       "    <tr>\n",
       "      <th>17</th>\n",
       "      <td>0.141262</td>\n",
       "      <td>0.002918</td>\n",
       "      <td>0.855821</td>\n",
       "      <td>NORMAL/IM-0023-0001.jpeg</td>\n",
       "      <td>0</td>\n",
       "      <td>2</td>\n",
       "    </tr>\n",
       "    <tr>\n",
       "      <th>18</th>\n",
       "      <td>0.035115</td>\n",
       "      <td>0.000258</td>\n",
       "      <td>0.964627</td>\n",
       "      <td>NORMAL/IM-0025-0001.jpeg</td>\n",
       "      <td>0</td>\n",
       "      <td>2</td>\n",
       "    </tr>\n",
       "    <tr>\n",
       "      <th>19</th>\n",
       "      <td>0.109994</td>\n",
       "      <td>0.011450</td>\n",
       "      <td>0.878556</td>\n",
       "      <td>NORMAL/IM-0027-0001.jpeg</td>\n",
       "      <td>0</td>\n",
       "      <td>2</td>\n",
       "    </tr>\n",
       "    <tr>\n",
       "      <th>20</th>\n",
       "      <td>0.021129</td>\n",
       "      <td>0.052106</td>\n",
       "      <td>0.926765</td>\n",
       "      <td>NORMAL/IM-0028-0001.jpeg</td>\n",
       "      <td>0</td>\n",
       "      <td>2</td>\n",
       "    </tr>\n",
       "    <tr>\n",
       "      <th>21</th>\n",
       "      <td>0.000530</td>\n",
       "      <td>0.000187</td>\n",
       "      <td>0.999283</td>\n",
       "      <td>NORMAL/IM-0029-0001.jpeg</td>\n",
       "      <td>0</td>\n",
       "      <td>2</td>\n",
       "    </tr>\n",
       "    <tr>\n",
       "      <th>22</th>\n",
       "      <td>0.354356</td>\n",
       "      <td>0.003033</td>\n",
       "      <td>0.642612</td>\n",
       "      <td>NORMAL/IM-0030-0001.jpeg</td>\n",
       "      <td>0</td>\n",
       "      <td>2</td>\n",
       "    </tr>\n",
       "    <tr>\n",
       "      <th>23</th>\n",
       "      <td>0.138642</td>\n",
       "      <td>0.012715</td>\n",
       "      <td>0.848643</td>\n",
       "      <td>NORMAL/IM-0031-0001.jpeg</td>\n",
       "      <td>0</td>\n",
       "      <td>2</td>\n",
       "    </tr>\n",
       "    <tr>\n",
       "      <th>24</th>\n",
       "      <td>0.015384</td>\n",
       "      <td>0.000410</td>\n",
       "      <td>0.984206</td>\n",
       "      <td>NORMAL/IM-0033-0001-0001.jpeg</td>\n",
       "      <td>0</td>\n",
       "      <td>2</td>\n",
       "    </tr>\n",
       "    <tr>\n",
       "      <th>25</th>\n",
       "      <td>0.037355</td>\n",
       "      <td>0.000467</td>\n",
       "      <td>0.962179</td>\n",
       "      <td>NORMAL/IM-0033-0001-0002.jpeg</td>\n",
       "      <td>0</td>\n",
       "      <td>2</td>\n",
       "    </tr>\n",
       "    <tr>\n",
       "      <th>26</th>\n",
       "      <td>0.052212</td>\n",
       "      <td>0.001698</td>\n",
       "      <td>0.946090</td>\n",
       "      <td>NORMAL/IM-0033-0001.jpeg</td>\n",
       "      <td>0</td>\n",
       "      <td>2</td>\n",
       "    </tr>\n",
       "    <tr>\n",
       "      <th>27</th>\n",
       "      <td>0.025872</td>\n",
       "      <td>0.006449</td>\n",
       "      <td>0.967678</td>\n",
       "      <td>NORMAL/IM-0035-0001.jpeg</td>\n",
       "      <td>0</td>\n",
       "      <td>2</td>\n",
       "    </tr>\n",
       "    <tr>\n",
       "      <th>28</th>\n",
       "      <td>0.008212</td>\n",
       "      <td>0.003551</td>\n",
       "      <td>0.988236</td>\n",
       "      <td>NORMAL/IM-0036-0001.jpeg</td>\n",
       "      <td>0</td>\n",
       "      <td>2</td>\n",
       "    </tr>\n",
       "    <tr>\n",
       "      <th>29</th>\n",
       "      <td>0.006325</td>\n",
       "      <td>0.008662</td>\n",
       "      <td>0.985013</td>\n",
       "      <td>NORMAL/IM-0037-0001.jpeg</td>\n",
       "      <td>0</td>\n",
       "      <td>2</td>\n",
       "    </tr>\n",
       "    <tr>\n",
       "      <th>30</th>\n",
       "      <td>0.237154</td>\n",
       "      <td>0.046706</td>\n",
       "      <td>0.716140</td>\n",
       "      <td>NORMAL/IM-0039-0001.jpeg</td>\n",
       "      <td>0</td>\n",
       "      <td>2</td>\n",
       "    </tr>\n",
       "    <tr>\n",
       "      <th>31</th>\n",
       "      <td>0.002981</td>\n",
       "      <td>0.001692</td>\n",
       "      <td>0.995326</td>\n",
       "      <td>NORMAL/IM-0041-0001.jpeg</td>\n",
       "      <td>0</td>\n",
       "      <td>2</td>\n",
       "    </tr>\n",
       "    <tr>\n",
       "      <th>32</th>\n",
       "      <td>0.003264</td>\n",
       "      <td>0.008792</td>\n",
       "      <td>0.987944</td>\n",
       "      <td>NORMAL/IM-0043-0001.jpeg</td>\n",
       "      <td>0</td>\n",
       "      <td>2</td>\n",
       "    </tr>\n",
       "    <tr>\n",
       "      <th>33</th>\n",
       "      <td>0.000521</td>\n",
       "      <td>0.000042</td>\n",
       "      <td>0.999436</td>\n",
       "      <td>NORMAL/IM-0045-0001.jpeg</td>\n",
       "      <td>0</td>\n",
       "      <td>2</td>\n",
       "    </tr>\n",
       "    <tr>\n",
       "      <th>34</th>\n",
       "      <td>0.015828</td>\n",
       "      <td>0.004593</td>\n",
       "      <td>0.979579</td>\n",
       "      <td>NORMAL/IM-0046-0001.jpeg</td>\n",
       "      <td>0</td>\n",
       "      <td>2</td>\n",
       "    </tr>\n",
       "    <tr>\n",
       "      <th>35</th>\n",
       "      <td>0.993768</td>\n",
       "      <td>0.005132</td>\n",
       "      <td>0.001100</td>\n",
       "      <td>NORMAL/IM-0049-0001.jpeg</td>\n",
       "      <td>0</td>\n",
       "      <td>0</td>\n",
       "    </tr>\n",
       "    <tr>\n",
       "      <th>36</th>\n",
       "      <td>0.999462</td>\n",
       "      <td>0.000006</td>\n",
       "      <td>0.000531</td>\n",
       "      <td>NORMAL/IM-0050-0001.jpeg</td>\n",
       "      <td>0</td>\n",
       "      <td>0</td>\n",
       "    </tr>\n",
       "    <tr>\n",
       "      <th>37</th>\n",
       "      <td>0.993347</td>\n",
       "      <td>0.006178</td>\n",
       "      <td>0.000474</td>\n",
       "      <td>NORMAL/IM-0059-0001.jpeg</td>\n",
       "      <td>0</td>\n",
       "      <td>0</td>\n",
       "    </tr>\n",
       "    <tr>\n",
       "      <th>38</th>\n",
       "      <td>0.988063</td>\n",
       "      <td>0.011399</td>\n",
       "      <td>0.000537</td>\n",
       "      <td>NORMAL/IM-0061-0001.jpeg</td>\n",
       "      <td>0</td>\n",
       "      <td>0</td>\n",
       "    </tr>\n",
       "    <tr>\n",
       "      <th>39</th>\n",
       "      <td>0.726577</td>\n",
       "      <td>0.178352</td>\n",
       "      <td>0.095070</td>\n",
       "      <td>NORMAL/IM-0063-0001.jpeg</td>\n",
       "      <td>0</td>\n",
       "      <td>0</td>\n",
       "    </tr>\n",
       "    <tr>\n",
       "      <th>40</th>\n",
       "      <td>0.230258</td>\n",
       "      <td>0.765495</td>\n",
       "      <td>0.004247</td>\n",
       "      <td>NORMAL/IM-0065-0001.jpeg</td>\n",
       "      <td>0</td>\n",
       "      <td>1</td>\n",
       "    </tr>\n",
       "    <tr>\n",
       "      <th>41</th>\n",
       "      <td>0.878933</td>\n",
       "      <td>0.108421</td>\n",
       "      <td>0.012646</td>\n",
       "      <td>NORMAL/IM-0067-0001.jpeg</td>\n",
       "      <td>0</td>\n",
       "      <td>0</td>\n",
       "    </tr>\n",
       "    <tr>\n",
       "      <th>42</th>\n",
       "      <td>0.995341</td>\n",
       "      <td>0.004194</td>\n",
       "      <td>0.000465</td>\n",
       "      <td>NORMAL/IM-0069-0001.jpeg</td>\n",
       "      <td>0</td>\n",
       "      <td>0</td>\n",
       "    </tr>\n",
       "    <tr>\n",
       "      <th>43</th>\n",
       "      <td>0.995762</td>\n",
       "      <td>0.000830</td>\n",
       "      <td>0.003408</td>\n",
       "      <td>NORMAL/IM-0070-0001.jpeg</td>\n",
       "      <td>0</td>\n",
       "      <td>0</td>\n",
       "    </tr>\n",
       "    <tr>\n",
       "      <th>44</th>\n",
       "      <td>0.581552</td>\n",
       "      <td>0.099141</td>\n",
       "      <td>0.319307</td>\n",
       "      <td>NORMAL/IM-0071-0001.jpeg</td>\n",
       "      <td>0</td>\n",
       "      <td>0</td>\n",
       "    </tr>\n",
       "    <tr>\n",
       "      <th>45</th>\n",
       "      <td>0.910956</td>\n",
       "      <td>0.064700</td>\n",
       "      <td>0.024344</td>\n",
       "      <td>NORMAL/IM-0073-0001.jpeg</td>\n",
       "      <td>0</td>\n",
       "      <td>0</td>\n",
       "    </tr>\n",
       "    <tr>\n",
       "      <th>46</th>\n",
       "      <td>0.671479</td>\n",
       "      <td>0.116271</td>\n",
       "      <td>0.212250</td>\n",
       "      <td>NORMAL/IM-0075-0001.jpeg</td>\n",
       "      <td>0</td>\n",
       "      <td>0</td>\n",
       "    </tr>\n",
       "    <tr>\n",
       "      <th>47</th>\n",
       "      <td>0.740869</td>\n",
       "      <td>0.252847</td>\n",
       "      <td>0.006284</td>\n",
       "      <td>NORMAL/IM-0077-0001.jpeg</td>\n",
       "      <td>0</td>\n",
       "      <td>0</td>\n",
       "    </tr>\n",
       "    <tr>\n",
       "      <th>48</th>\n",
       "      <td>0.903382</td>\n",
       "      <td>0.072925</td>\n",
       "      <td>0.023693</td>\n",
       "      <td>NORMAL/IM-0079-0001.jpeg</td>\n",
       "      <td>0</td>\n",
       "      <td>0</td>\n",
       "    </tr>\n",
       "    <tr>\n",
       "      <th>49</th>\n",
       "      <td>0.606346</td>\n",
       "      <td>0.390475</td>\n",
       "      <td>0.003179</td>\n",
       "      <td>NORMAL/IM-0081-0001.jpeg</td>\n",
       "      <td>0</td>\n",
       "      <td>0</td>\n",
       "    </tr>\n",
       "    <tr>\n",
       "      <th>50</th>\n",
       "      <td>0.991826</td>\n",
       "      <td>0.006094</td>\n",
       "      <td>0.002079</td>\n",
       "      <td>NORMAL/IM-0083-0001.jpeg</td>\n",
       "      <td>0</td>\n",
       "      <td>0</td>\n",
       "    </tr>\n",
       "    <tr>\n",
       "      <th>51</th>\n",
       "      <td>0.998398</td>\n",
       "      <td>0.001522</td>\n",
       "      <td>0.000080</td>\n",
       "      <td>NORMAL/IM-0084-0001.jpeg</td>\n",
       "      <td>0</td>\n",
       "      <td>0</td>\n",
       "    </tr>\n",
       "    <tr>\n",
       "      <th>52</th>\n",
       "      <td>0.802192</td>\n",
       "      <td>0.096765</td>\n",
       "      <td>0.101043</td>\n",
       "      <td>NORMAL/IM-0085-0001.jpeg</td>\n",
       "      <td>0</td>\n",
       "      <td>0</td>\n",
       "    </tr>\n",
       "    <tr>\n",
       "      <th>53</th>\n",
       "      <td>0.945375</td>\n",
       "      <td>0.017560</td>\n",
       "      <td>0.037064</td>\n",
       "      <td>NORMAL/IM-0086-0001.jpeg</td>\n",
       "      <td>0</td>\n",
       "      <td>0</td>\n",
       "    </tr>\n",
       "    <tr>\n",
       "      <th>54</th>\n",
       "      <td>0.882174</td>\n",
       "      <td>0.102986</td>\n",
       "      <td>0.014839</td>\n",
       "      <td>NORMAL/IM-0087-0001.jpeg</td>\n",
       "      <td>0</td>\n",
       "      <td>0</td>\n",
       "    </tr>\n",
       "    <tr>\n",
       "      <th>55</th>\n",
       "      <td>0.951719</td>\n",
       "      <td>0.025571</td>\n",
       "      <td>0.022710</td>\n",
       "      <td>NORMAL/IM-0089-0001.jpeg</td>\n",
       "      <td>0</td>\n",
       "      <td>0</td>\n",
       "    </tr>\n",
       "    <tr>\n",
       "      <th>56</th>\n",
       "      <td>0.348513</td>\n",
       "      <td>0.022324</td>\n",
       "      <td>0.629163</td>\n",
       "      <td>NORMAL/IM-0091-0001.jpeg</td>\n",
       "      <td>0</td>\n",
       "      <td>2</td>\n",
       "    </tr>\n",
       "    <tr>\n",
       "      <th>57</th>\n",
       "      <td>0.984745</td>\n",
       "      <td>0.013807</td>\n",
       "      <td>0.001448</td>\n",
       "      <td>NORMAL/IM-0093-0001.jpeg</td>\n",
       "      <td>0</td>\n",
       "      <td>0</td>\n",
       "    </tr>\n",
       "    <tr>\n",
       "      <th>58</th>\n",
       "      <td>0.865829</td>\n",
       "      <td>0.133250</td>\n",
       "      <td>0.000922</td>\n",
       "      <td>NORMAL/IM-0095-0001.jpeg</td>\n",
       "      <td>0</td>\n",
       "      <td>0</td>\n",
       "    </tr>\n",
       "    <tr>\n",
       "      <th>59</th>\n",
       "      <td>0.445988</td>\n",
       "      <td>0.553354</td>\n",
       "      <td>0.000658</td>\n",
       "      <td>NORMAL/IM-0097-0001.jpeg</td>\n",
       "      <td>0</td>\n",
       "      <td>1</td>\n",
       "    </tr>\n",
       "  </tbody>\n",
       "</table>\n",
       "</div>"
      ],
      "text/plain": [
       "           0         1         2                       filename  label  pred\n",
       "0   0.019075  0.012407  0.968517       NORMAL/IM-0001-0001.jpeg      0     2\n",
       "1   0.754616  0.076440  0.168943       NORMAL/IM-0003-0001.jpeg      0     0\n",
       "2   0.011320  0.017475  0.971205       NORMAL/IM-0005-0001.jpeg      0     2\n",
       "3   0.015898  0.052633  0.931468       NORMAL/IM-0006-0001.jpeg      0     2\n",
       "4   0.279125  0.021921  0.698953       NORMAL/IM-0007-0001.jpeg      0     2\n",
       "5   0.945404  0.033230  0.021365       NORMAL/IM-0009-0001.jpeg      0     0\n",
       "6   0.225123  0.006700  0.768176       NORMAL/IM-0010-0001.jpeg      0     2\n",
       "7   0.045109  0.011098  0.943793  NORMAL/IM-0011-0001-0001.jpeg      0     2\n",
       "8   0.111525  0.011258  0.877217  NORMAL/IM-0011-0001-0002.jpeg      0     2\n",
       "9   0.093846  0.003417  0.902737       NORMAL/IM-0011-0001.jpeg      0     2\n",
       "10  0.013809  0.000457  0.985734       NORMAL/IM-0013-0001.jpeg      0     2\n",
       "11  0.019189  0.047992  0.932819       NORMAL/IM-0015-0001.jpeg      0     2\n",
       "12  0.047986  0.004486  0.947527       NORMAL/IM-0016-0001.jpeg      0     2\n",
       "13  0.006931  0.001760  0.991309       NORMAL/IM-0017-0001.jpeg      0     2\n",
       "14  0.081451  0.286989  0.631560       NORMAL/IM-0019-0001.jpeg      0     2\n",
       "15  0.000142  0.000114  0.999744       NORMAL/IM-0021-0001.jpeg      0     2\n",
       "16  0.082037  0.878537  0.039426       NORMAL/IM-0022-0001.jpeg      0     1\n",
       "17  0.141262  0.002918  0.855821       NORMAL/IM-0023-0001.jpeg      0     2\n",
       "18  0.035115  0.000258  0.964627       NORMAL/IM-0025-0001.jpeg      0     2\n",
       "19  0.109994  0.011450  0.878556       NORMAL/IM-0027-0001.jpeg      0     2\n",
       "20  0.021129  0.052106  0.926765       NORMAL/IM-0028-0001.jpeg      0     2\n",
       "21  0.000530  0.000187  0.999283       NORMAL/IM-0029-0001.jpeg      0     2\n",
       "22  0.354356  0.003033  0.642612       NORMAL/IM-0030-0001.jpeg      0     2\n",
       "23  0.138642  0.012715  0.848643       NORMAL/IM-0031-0001.jpeg      0     2\n",
       "24  0.015384  0.000410  0.984206  NORMAL/IM-0033-0001-0001.jpeg      0     2\n",
       "25  0.037355  0.000467  0.962179  NORMAL/IM-0033-0001-0002.jpeg      0     2\n",
       "26  0.052212  0.001698  0.946090       NORMAL/IM-0033-0001.jpeg      0     2\n",
       "27  0.025872  0.006449  0.967678       NORMAL/IM-0035-0001.jpeg      0     2\n",
       "28  0.008212  0.003551  0.988236       NORMAL/IM-0036-0001.jpeg      0     2\n",
       "29  0.006325  0.008662  0.985013       NORMAL/IM-0037-0001.jpeg      0     2\n",
       "30  0.237154  0.046706  0.716140       NORMAL/IM-0039-0001.jpeg      0     2\n",
       "31  0.002981  0.001692  0.995326       NORMAL/IM-0041-0001.jpeg      0     2\n",
       "32  0.003264  0.008792  0.987944       NORMAL/IM-0043-0001.jpeg      0     2\n",
       "33  0.000521  0.000042  0.999436       NORMAL/IM-0045-0001.jpeg      0     2\n",
       "34  0.015828  0.004593  0.979579       NORMAL/IM-0046-0001.jpeg      0     2\n",
       "35  0.993768  0.005132  0.001100       NORMAL/IM-0049-0001.jpeg      0     0\n",
       "36  0.999462  0.000006  0.000531       NORMAL/IM-0050-0001.jpeg      0     0\n",
       "37  0.993347  0.006178  0.000474       NORMAL/IM-0059-0001.jpeg      0     0\n",
       "38  0.988063  0.011399  0.000537       NORMAL/IM-0061-0001.jpeg      0     0\n",
       "39  0.726577  0.178352  0.095070       NORMAL/IM-0063-0001.jpeg      0     0\n",
       "40  0.230258  0.765495  0.004247       NORMAL/IM-0065-0001.jpeg      0     1\n",
       "41  0.878933  0.108421  0.012646       NORMAL/IM-0067-0001.jpeg      0     0\n",
       "42  0.995341  0.004194  0.000465       NORMAL/IM-0069-0001.jpeg      0     0\n",
       "43  0.995762  0.000830  0.003408       NORMAL/IM-0070-0001.jpeg      0     0\n",
       "44  0.581552  0.099141  0.319307       NORMAL/IM-0071-0001.jpeg      0     0\n",
       "45  0.910956  0.064700  0.024344       NORMAL/IM-0073-0001.jpeg      0     0\n",
       "46  0.671479  0.116271  0.212250       NORMAL/IM-0075-0001.jpeg      0     0\n",
       "47  0.740869  0.252847  0.006284       NORMAL/IM-0077-0001.jpeg      0     0\n",
       "48  0.903382  0.072925  0.023693       NORMAL/IM-0079-0001.jpeg      0     0\n",
       "49  0.606346  0.390475  0.003179       NORMAL/IM-0081-0001.jpeg      0     0\n",
       "50  0.991826  0.006094  0.002079       NORMAL/IM-0083-0001.jpeg      0     0\n",
       "51  0.998398  0.001522  0.000080       NORMAL/IM-0084-0001.jpeg      0     0\n",
       "52  0.802192  0.096765  0.101043       NORMAL/IM-0085-0001.jpeg      0     0\n",
       "53  0.945375  0.017560  0.037064       NORMAL/IM-0086-0001.jpeg      0     0\n",
       "54  0.882174  0.102986  0.014839       NORMAL/IM-0087-0001.jpeg      0     0\n",
       "55  0.951719  0.025571  0.022710       NORMAL/IM-0089-0001.jpeg      0     0\n",
       "56  0.348513  0.022324  0.629163       NORMAL/IM-0091-0001.jpeg      0     2\n",
       "57  0.984745  0.013807  0.001448       NORMAL/IM-0093-0001.jpeg      0     0\n",
       "58  0.865829  0.133250  0.000922       NORMAL/IM-0095-0001.jpeg      0     0\n",
       "59  0.445988  0.553354  0.000658       NORMAL/IM-0097-0001.jpeg      0     1"
      ]
     },
     "execution_count": 35,
     "metadata": {},
     "output_type": "execute_result"
    }
   ],
   "source": [
    "pre.head(60)"
   ]
  },
  {
   "cell_type": "code",
   "execution_count": 21,
   "metadata": {},
   "outputs": [
    {
     "data": {
      "text/plain": [
       "0.8011958146487295"
      ]
     },
     "execution_count": 21,
     "metadata": {},
     "output_type": "execute_result"
    }
   ],
   "source": [
    "accuracy_score(pre[\"label\"], pre[\"pred\"])"
   ]
  },
  {
   "cell_type": "code",
   "execution_count": 23,
   "metadata": {},
   "outputs": [
    {
     "data": {
      "text/plain": [
       "array([0.54273504, 0.93333333, 1.        ])"
      ]
     },
     "execution_count": 23,
     "metadata": {},
     "output_type": "execute_result"
    }
   ],
   "source": [
    "from sklearn.metrics import recall_score\n",
    "recall_score(pre[\"label\"], pre[\"pred\"], average=None)"
   ]
  },
  {
   "cell_type": "code",
   "execution_count": 25,
   "metadata": {},
   "outputs": [
    {
     "data": {
      "text/plain": [
       "array([0.66145833, 0.89765721, 0.62937063])"
      ]
     },
     "execution_count": 25,
     "metadata": {},
     "output_type": "execute_result"
    }
   ],
   "source": [
    "from sklearn.metrics import f1_score\n",
    "f1_score(pre[\"label\"], pre[\"pred\"], average=None)"
   ]
  },
  {
   "cell_type": "code",
   "execution_count": 34,
   "metadata": {},
   "outputs": [
    {
     "data": {
      "text/plain": [
       "0.7969943819361234"
      ]
     },
     "execution_count": 34,
     "metadata": {},
     "output_type": "execute_result"
    }
   ],
   "source": [
    "from sklearn.metrics import f1_score\n",
    "f1_score(pre[\"label\"], pre[\"pred\"], average='weighted')"
   ]
  },
  {
   "cell_type": "code",
   "execution_count": 27,
   "metadata": {},
   "outputs": [],
   "source": [
    "pre.to_csv('PCNresults.csv')"
   ]
  },
  {
   "cell_type": "code",
   "execution_count": 28,
   "metadata": {},
   "outputs": [],
   "source": [
    "zero=pre.loc[pre['label'] == 0]"
   ]
  },
  {
   "cell_type": "code",
   "execution_count": 30,
   "metadata": {
    "scrolled": true
   },
   "outputs": [
    {
     "data": {
      "text/plain": [
       "0    127\n",
       "1     57\n",
       "2     50\n",
       "Name: pred, dtype: int64"
      ]
     },
     "execution_count": 30,
     "metadata": {},
     "output_type": "execute_result"
    }
   ],
   "source": [
    "zero['pred'].value_counts()"
   ]
  },
  {
   "cell_type": "code",
   "execution_count": 31,
   "metadata": {},
   "outputs": [
    {
     "data": {
      "text/plain": [
       "1    364\n",
       "0     23\n",
       "2      3\n",
       "Name: pred, dtype: int64"
      ]
     },
     "execution_count": 31,
     "metadata": {},
     "output_type": "execute_result"
    }
   ],
   "source": [
    "one=pre.loc[pre['label'] == 1]\n",
    "\n",
    "one['pred'].value_counts()"
   ]
  },
  {
   "cell_type": "code",
   "execution_count": 33,
   "metadata": {},
   "outputs": [
    {
     "data": {
      "text/plain": [
       "2    45\n",
       "Name: pred, dtype: int64"
      ]
     },
     "execution_count": 33,
     "metadata": {},
     "output_type": "execute_result"
    }
   ],
   "source": [
    "two=pre.loc[pre['label'] == 2]\n",
    "two['pred'].value_counts()"
   ]
  },
  {
   "cell_type": "code",
   "execution_count": 36,
   "metadata": {},
   "outputs": [
    {
     "data": {
      "text/plain": [
       "array([[127,  57,  50],\n",
       "       [ 23, 364,   3],\n",
       "       [  0,   0,  45]])"
      ]
     },
     "execution_count": 36,
     "metadata": {},
     "output_type": "execute_result"
    }
   ],
   "source": [
    "from sklearn.metrics import confusion_matrix\n",
    "confusion_matrix(pre['label'],pre['pred'])"
   ]
  },
  {
   "cell_type": "code",
   "execution_count": 46,
   "metadata": {
    "scrolled": true
   },
   "outputs": [
    {
     "data": {
      "image/png": "[encoded data removed]",
      "text/plain": [
       "<Figure size 864x648 with 2 Axes>"
      ]
     },
     "metadata": {
      "needs_background": "light"
     },
     "output_type": "display_data"
    }
   ],
   "source": [
    "#confusion matrix\n",
    "import seaborn as sn\n",
    "confusion_matrix = pd.crosstab(pre['label'],pre['pred'], rownames=['Actual'], colnames=['Predicted'])\n",
    "plt.figure(figsize=(12, 9))\n",
    "sn.heatmap(confusion_matrix, annot=True, cmap=\"Blues\", annot_kws={\"fontsize\":20}, fmt='g')\n",
    "plt.show()"
   ]
  },
  {
   "cell_type": "code",
   "execution_count": null,
   "metadata": {},
   "outputs": [],
   "source": []
  }
 ],
 "metadata": {
  "kernelspec": {
   "display_name": "Python [conda env:metis] *",
   "language": "python",
   "name": "conda-env-metis-py"
  },
  "language_info": {
   "codemirror_mode": {
    "name": "ipython",
    "version": 3
   },
   "file_extension": ".py",
   "mimetype": "text/x-python",
   "name": "python",
   "nbconvert_exporter": "python",
   "pygments_lexer": "ipython3",
   "version": "3.8.3"
  }
 },
 "nbformat": 4,
 "nbformat_minor": 4
}
