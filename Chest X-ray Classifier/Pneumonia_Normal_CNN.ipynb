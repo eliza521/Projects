{
 "cells": [
  {
   "cell_type": "markdown",
   "metadata": {},
   "source": [
    "# Pneumonia Normal Chest X-ray Classification\n",
    "\n"
   ]
  },
  {
   "cell_type": "code",
   "execution_count": 1,
   "metadata": {},
   "outputs": [],
   "source": [
    "import keras\n",
    "from keras.preprocessing.image import ImageDataGenerator\n",
    "from keras.models import Sequential\n",
    "from keras.layers import Dense, Conv2D, MaxPooling2D, Flatten, Dropout, Input, Activation, ZeroPadding2D, BatchNormalization\n",
    "from keras.optimizers import Adam\n",
    "from sklearn.metrics import accuracy_score\n",
    "import pandas as pd\n",
    "import matplotlib.pyplot as plt"
   ]
  },
  {
   "cell_type": "code",
   "execution_count": 2,
   "metadata": {},
   "outputs": [],
   "source": [
    "#building the neural net\n",
    "model = Sequential()\n",
    "model.add(Conv2D(32, (3,3), strides=(1,1), padding='same', input_shape=(64,64,1), activation='relu'))\n",
    "model.add(Conv2D(32, (3,3), strides=(1,1), padding='same', activation='relu'))\n",
    "model.add(BatchNormalization())\n",
    "model.add(MaxPooling2D((2,2)))\n",
    "model.add(Dropout(0.25))\n",
    "\n",
    "model.add(Conv2D(64, (3,3), strides=(1,1), padding='same', activation='relu'))\n",
    "model.add(BatchNormalization())\n",
    "model.add(MaxPooling2D((2,2)))\n",
    "model.add(Dropout(0.25))\n",
    "\n",
    "model.add(Flatten())\n",
    "model.add(Dense(1024, activation='relu'))\n",
    "model.add(BatchNormalization())\n",
    "model.add(Dropout(0.40))\n",
    "model.add(Dense(2, activation='softmax'))"
   ]
  },
  {
   "cell_type": "code",
   "execution_count": 3,
   "metadata": {},
   "outputs": [],
   "source": [
    "#variable for Image Generator to read from separate files \n",
    "gen = ImageDataGenerator()"
   ]
  },
  {
   "cell_type": "code",
   "execution_count": 4,
   "metadata": {},
   "outputs": [
    {
     "name": "stdout",
     "output_type": "stream",
     "text": [
      "Found 5216 images belonging to 2 classes.\n",
      "Found 16 images belonging to 2 classes.\n",
      "Found 624 images belonging to 2 classes.\n"
     ]
    }
   ],
   "source": [
    "#from files load shape, set color to grayscale, shuffle images for seed, batch size\n",
    "train_batches = gen.flow_from_directory(\"chest_xray/pandn/train\",model.input_shape[1:3],color_mode=\"grayscale\",shuffle=True,seed=1,\n",
    "                                        batch_size=16)\n",
    "valid_batches = gen.flow_from_directory(\"chest_xray/pandn/val\", model.input_shape[1:3],color_mode=\"grayscale\", shuffle=True,seed=1,\n",
    "                                        batch_size=24)\n",
    "test_batches = gen.flow_from_directory(\"chest_xray/pandn/test\", model.input_shape[1:3], shuffle=False,\n",
    "                                       color_mode=\"grayscale\", batch_size=8)\n"
   ]
  },
  {
   "cell_type": "code",
   "execution_count": 5,
   "metadata": {
    "scrolled": true
   },
   "outputs": [
    {
     "data": {
      "text/plain": [
       "1"
      ]
     },
     "execution_count": 5,
     "metadata": {},
     "output_type": "execute_result"
    }
   ],
   "source": [
    "len(valid_batches)"
   ]
  },
  {
   "cell_type": "code",
   "execution_count": 6,
   "metadata": {},
   "outputs": [
    {
     "data": {
      "text/plain": [
       "326"
      ]
     },
     "execution_count": 6,
     "metadata": {},
     "output_type": "execute_result"
    }
   ],
   "source": [
    "len(train_batches)"
   ]
  },
  {
   "cell_type": "code",
   "execution_count": 7,
   "metadata": {},
   "outputs": [],
   "source": [
    "#compile the model\n",
    "model.compile(Adam(lr=0.001),loss=\"categorical_crossentropy\", metrics=[\"accuracy\"])"
   ]
  },
  {
   "cell_type": "code",
   "execution_count": 8,
   "metadata": {},
   "outputs": [],
   "source": [
    "import numpy as np"
   ]
  },
  {
   "cell_type": "code",
   "execution_count": 9,
   "metadata": {},
   "outputs": [
    {
     "data": {
      "text/plain": [
       "array([1.06113006])"
      ]
     },
     "execution_count": 9,
     "metadata": {},
     "output_type": "execute_result"
    }
   ],
   "source": [
    "#class imbalance\n",
    "COUNT_PNEUMONIA=3875\n",
    "COUNT_NORMAL=1341\n",
    "TRAIN_IMG_COUNT=COUNT_NORMAL+COUNT_PNEUMONIA\n",
    "initial_bias = np.log([COUNT_PNEUMONIA/COUNT_NORMAL])\n",
    "initial_bias\n"
   ]
  },
  {
   "cell_type": "code",
   "execution_count": 10,
   "metadata": {},
   "outputs": [
    {
     "name": "stdout",
     "output_type": "stream",
     "text": [
      "Weight for class 0: 1.94\n",
      "Weight for class 1: 0.67\n"
     ]
    }
   ],
   "source": [
    "#create weights for class imbalance\n",
    "weight_for_0 = (1 / COUNT_NORMAL)*(TRAIN_IMG_COUNT)/2.0 \n",
    "weight_for_1 = (1 / COUNT_PNEUMONIA)*(TRAIN_IMG_COUNT)/2.0\n",
    "\n",
    "class_weight = {0: weight_for_0, 1: weight_for_1}\n",
    "\n",
    "print('Weight for class 0: {:.2f}'.format(weight_for_0))\n",
    "print('Weight for class 1: {:.2f}'.format(weight_for_1))"
   ]
  },
  {
   "cell_type": "code",
   "execution_count": 11,
   "metadata": {
    "scrolled": true
   },
   "outputs": [
    {
     "name": "stdout",
     "output_type": "stream",
     "text": [
      "Epoch 1/30\n",
      "16/16 [==============================] - 4s 264ms/step - loss: 0.9779 - accuracy: 0.7969 - val_loss: 0.9279 - val_accuracy: 0.6250\n",
      "Epoch 2/30\n",
      "16/16 [==============================] - 4s 240ms/step - loss: 0.5430 - accuracy: 0.8320 - val_loss: 36.9367 - val_accuracy: 0.5000\n",
      "Epoch 3/30\n",
      "16/16 [==============================] - 4s 225ms/step - loss: 0.3979 - accuracy: 0.8477 - val_loss: 0.3587 - val_accuracy: 0.6875\n",
      "Epoch 4/30\n",
      "16/16 [==============================] - 4s 235ms/step - loss: 0.2767 - accuracy: 0.8828 - val_loss: 0.2961 - val_accuracy: 0.8750\n",
      "Epoch 5/30\n",
      "16/16 [==============================] - 4s 238ms/step - loss: 0.2726 - accuracy: 0.8789 - val_loss: 0.3117 - val_accuracy: 0.8125\n",
      "Epoch 6/30\n",
      "16/16 [==============================] - 4s 236ms/step - loss: 0.2043 - accuracy: 0.9062 - val_loss: 2.0665 - val_accuracy: 0.5625\n",
      "Epoch 7/30\n",
      "16/16 [==============================] - 4s 267ms/step - loss: 0.2037 - accuracy: 0.9141 - val_loss: 6.1012 - val_accuracy: 0.5000\n",
      "Epoch 8/30\n",
      "16/16 [==============================] - 4s 252ms/step - loss: 0.1564 - accuracy: 0.9414 - val_loss: 0.3061 - val_accuracy: 0.8750\n",
      "Epoch 9/30\n",
      "16/16 [==============================] - 4s 240ms/step - loss: 0.2428 - accuracy: 0.9336 - val_loss: 0.9618 - val_accuracy: 0.5625\n",
      "Epoch 10/30\n",
      "16/16 [==============================] - 4s 246ms/step - loss: 0.1988 - accuracy: 0.9336 - val_loss: 0.3557 - val_accuracy: 0.8125\n",
      "Epoch 11/30\n",
      "16/16 [==============================] - 4s 231ms/step - loss: 0.2227 - accuracy: 0.9062 - val_loss: 0.2971 - val_accuracy: 0.9375\n",
      "Epoch 12/30\n",
      "16/16 [==============================] - 4s 235ms/step - loss: 0.2212 - accuracy: 0.9258 - val_loss: 6.3547 - val_accuracy: 0.5000\n",
      "Epoch 13/30\n",
      "16/16 [==============================] - 4s 228ms/step - loss: 0.2133 - accuracy: 0.8906 - val_loss: 2.7162 - val_accuracy: 0.5000\n",
      "Epoch 14/30\n",
      "16/16 [==============================] - 4s 230ms/step - loss: 0.1661 - accuracy: 0.9219 - val_loss: 3.0505 - val_accuracy: 0.5000\n",
      "Epoch 15/30\n",
      "16/16 [==============================] - 4s 235ms/step - loss: 0.1461 - accuracy: 0.9375 - val_loss: 1.9738 - val_accuracy: 0.5000\n",
      "Epoch 16/30\n",
      "16/16 [==============================] - 4s 242ms/step - loss: 0.1897 - accuracy: 0.9492 - val_loss: 1.6569 - val_accuracy: 0.5625\n",
      "Epoch 17/30\n",
      "16/16 [==============================] - 4s 239ms/step - loss: 0.1340 - accuracy: 0.9414 - val_loss: 2.8367 - val_accuracy: 0.5000\n",
      "Epoch 18/30\n",
      "16/16 [==============================] - 4s 234ms/step - loss: 0.0936 - accuracy: 0.9531 - val_loss: 0.8635 - val_accuracy: 0.5000\n",
      "Epoch 19/30\n",
      "16/16 [==============================] - 4s 243ms/step - loss: 0.2435 - accuracy: 0.9219 - val_loss: 0.5407 - val_accuracy: 0.7500\n",
      "Epoch 20/30\n",
      "16/16 [==============================] - 4s 235ms/step - loss: 0.2085 - accuracy: 0.9062 - val_loss: 1.9574 - val_accuracy: 0.5000\n",
      "Epoch 21/30\n",
      "16/16 [==============================] - 4s 245ms/step - loss: 0.1561 - accuracy: 0.9531 - val_loss: 0.4468 - val_accuracy: 0.8125\n",
      "Epoch 22/30\n",
      "16/16 [==============================] - 5s 284ms/step - loss: 0.1978 - accuracy: 0.9531 - val_loss: 0.6886 - val_accuracy: 0.6875\n",
      "Epoch 23/30\n",
      "16/16 [==============================] - 4s 265ms/step - loss: 0.1356 - accuracy: 0.9414 - val_loss: 2.2454 - val_accuracy: 0.5000\n",
      "Epoch 24/30\n",
      "16/16 [==============================] - 4s 258ms/step - loss: 0.1407 - accuracy: 0.9453 - val_loss: 1.9498 - val_accuracy: 0.5000\n",
      "Epoch 25/30\n",
      "16/16 [==============================] - 4s 248ms/step - loss: 0.1158 - accuracy: 0.9570 - val_loss: 3.6738 - val_accuracy: 0.5000\n",
      "Epoch 26/30\n",
      "16/16 [==============================] - 4s 280ms/step - loss: 0.1700 - accuracy: 0.9453 - val_loss: 2.7778 - val_accuracy: 0.5625\n",
      "Epoch 27/30\n",
      "16/16 [==============================] - 4s 278ms/step - loss: 0.1257 - accuracy: 0.9492 - val_loss: 3.8149 - val_accuracy: 0.5000\n",
      "Epoch 28/30\n",
      "16/16 [==============================] - 4s 248ms/step - loss: 0.2777 - accuracy: 0.9102 - val_loss: 1.9233 - val_accuracy: 0.5000\n",
      "Epoch 29/30\n",
      "16/16 [==============================] - 4s 238ms/step - loss: 0.2046 - accuracy: 0.9531 - val_loss: 1.1543 - val_accuracy: 0.5000\n",
      "Epoch 30/30\n",
      "16/16 [==============================] - 4s 251ms/step - loss: 0.1665 - accuracy: 0.9414 - val_loss: 0.4147 - val_accuracy: 0.8125\n"
     ]
    }
   ],
   "source": [
    "#fit the model\n",
    "hist=model.fit(train_batches,validation_data=valid_batches,epochs=30, steps_per_epoch=16, validation_steps=1, class_weight=class_weight)"
   ]
  },
  {
   "cell_type": "code",
   "execution_count": 12,
   "metadata": {},
   "outputs": [
    {
     "data": {
      "text/plain": [
       "[<matplotlib.lines.Line2D at 0x7fb2f847cca0>]"
      ]
     },
     "execution_count": 12,
     "metadata": {},
     "output_type": "execute_result"
    },
    {
     "data": {
      "image/png": "[encoded data removed]",
      "text/plain": [
       "<Figure size 432x288 with 1 Axes>"
      ]
     },
     "metadata": {
      "needs_background": "light"
     },
     "output_type": "display_data"
    }
   ],
   "source": [
    "plt.plot(hist.history['loss'])"
   ]
  },
  {
   "cell_type": "code",
   "execution_count": 18,
   "metadata": {},
   "outputs": [
    {
     "data": {
      "image/png": "[encoded data removed]",
      "text/plain": [
       "<Figure size 432x288 with 1 Axes>"
      ]
     },
     "metadata": {
      "needs_background": "light"
     },
     "output_type": "display_data"
    }
   ],
   "source": [
    "plt.plot(hist.history['accuracy'], 'b')\n",
    "plt.plot(hist.history['val_accuracy'], 'ko')\n",
    "\n",
    "plt.title('Accuracy vs Training Epoch')\n",
    "plt.xlabel('Epoch')\n",
    "plt.ylabel('Accuracy')\n",
    "plt.legend(['Train', 'Validation']);"
   ]
  },
  {
   "cell_type": "code",
   "execution_count": 14,
   "metadata": {},
   "outputs": [
    {
     "name": "stdout",
     "output_type": "stream",
     "text": [
      "78/78 [==============================] - 5s 65ms/step\n"
     ]
    }
   ],
   "source": [
    "#predict on the model\n",
    "no_steps = len(test_batches)\n",
    "p = model.predict(test_batches, steps=no_steps, verbose=True)\n",
    "pre = pd.DataFrame(p)"
   ]
  },
  {
   "cell_type": "code",
   "execution_count": 15,
   "metadata": {},
   "outputs": [],
   "source": [
    "#class prediction results\n",
    "pre[\"filename\"] = test_batches.filenames\n",
    "pre[\"label\"] = (pre[\"filename\"].str.contains(\"PNEUMONIA\")).apply(int)\n",
    "pre['pre'] = (pre[1]>0.5).apply(int)"
   ]
  },
  {
   "cell_type": "code",
   "execution_count": 16,
   "metadata": {},
   "outputs": [
    {
     "data": {
      "text/plain": [
       "0.8733974358974359"
      ]
     },
     "execution_count": 16,
     "metadata": {},
     "output_type": "execute_result"
    }
   ],
   "source": [
    "accuracy_score(pre[\"label\"], pre[\"pre\"])"
   ]
  },
  {
   "cell_type": "code",
   "execution_count": 20,
   "metadata": {},
   "outputs": [
    {
     "data": {
      "text/plain": [
       "array([0.87179487, 0.87435897])"
      ]
     },
     "execution_count": 20,
     "metadata": {},
     "output_type": "execute_result"
    }
   ],
   "source": [
    "from sklearn.metrics import recall_score\n",
    "recall_score(pre[\"label\"], pre[\"pre\"], average=None)"
   ]
  },
  {
   "cell_type": "code",
   "execution_count": 21,
   "metadata": {},
   "outputs": [
    {
     "data": {
      "text/plain": [
       "array([0.83778234, 0.89618922])"
      ]
     },
     "execution_count": 21,
     "metadata": {},
     "output_type": "execute_result"
    }
   ],
   "source": [
    "from sklearn.metrics import f1_score\n",
    "f1_score(pre[\"label\"], pre[\"pre\"], average=None)"
   ]
  },
  {
   "cell_type": "code",
   "execution_count": 19,
   "metadata": {
    "scrolled": true
   },
   "outputs": [
    {
     "data": {
      "text/html": [
       "<div>\n",
       "<style scoped>\n",
       "    .dataframe tbody tr th:only-of-type {\n",
       "        vertical-align: middle;\n",
       "    }\n",
       "\n",
       "    .dataframe tbody tr th {\n",
       "        vertical-align: top;\n",
       "    }\n",
       "\n",
       "    .dataframe thead th {\n",
       "        text-align: right;\n",
       "    }\n",
       "</style>\n",
       "<table border=\"1\" class=\"dataframe\">\n",
       "  <thead>\n",
       "    <tr style=\"text-align: right;\">\n",
       "      <th></th>\n",
       "      <th>0</th>\n",
       "      <th>1</th>\n",
       "      <th>filename</th>\n",
       "      <th>label</th>\n",
       "      <th>pre</th>\n",
       "    </tr>\n",
       "  </thead>\n",
       "  <tbody>\n",
       "    <tr>\n",
       "      <th>0</th>\n",
       "      <td>0.996830</td>\n",
       "      <td>0.003170</td>\n",
       "      <td>NORMAL/IM-0001-0001.jpeg</td>\n",
       "      <td>0</td>\n",
       "      <td>0</td>\n",
       "    </tr>\n",
       "    <tr>\n",
       "      <th>1</th>\n",
       "      <td>0.925185</td>\n",
       "      <td>0.074815</td>\n",
       "      <td>NORMAL/IM-0003-0001.jpeg</td>\n",
       "      <td>0</td>\n",
       "      <td>0</td>\n",
       "    </tr>\n",
       "    <tr>\n",
       "      <th>2</th>\n",
       "      <td>0.906884</td>\n",
       "      <td>0.093116</td>\n",
       "      <td>NORMAL/IM-0005-0001.jpeg</td>\n",
       "      <td>0</td>\n",
       "      <td>0</td>\n",
       "    </tr>\n",
       "    <tr>\n",
       "      <th>3</th>\n",
       "      <td>0.618312</td>\n",
       "      <td>0.381688</td>\n",
       "      <td>NORMAL/IM-0006-0001.jpeg</td>\n",
       "      <td>0</td>\n",
       "      <td>0</td>\n",
       "    </tr>\n",
       "    <tr>\n",
       "      <th>4</th>\n",
       "      <td>0.990766</td>\n",
       "      <td>0.009234</td>\n",
       "      <td>NORMAL/IM-0007-0001.jpeg</td>\n",
       "      <td>0</td>\n",
       "      <td>0</td>\n",
       "    </tr>\n",
       "    <tr>\n",
       "      <th>5</th>\n",
       "      <td>0.962648</td>\n",
       "      <td>0.037352</td>\n",
       "      <td>NORMAL/IM-0009-0001.jpeg</td>\n",
       "      <td>0</td>\n",
       "      <td>0</td>\n",
       "    </tr>\n",
       "    <tr>\n",
       "      <th>6</th>\n",
       "      <td>0.994101</td>\n",
       "      <td>0.005899</td>\n",
       "      <td>NORMAL/IM-0010-0001.jpeg</td>\n",
       "      <td>0</td>\n",
       "      <td>0</td>\n",
       "    </tr>\n",
       "    <tr>\n",
       "      <th>7</th>\n",
       "      <td>0.963908</td>\n",
       "      <td>0.036092</td>\n",
       "      <td>NORMAL/IM-0011-0001-0001.jpeg</td>\n",
       "      <td>0</td>\n",
       "      <td>0</td>\n",
       "    </tr>\n",
       "    <tr>\n",
       "      <th>8</th>\n",
       "      <td>0.960096</td>\n",
       "      <td>0.039904</td>\n",
       "      <td>NORMAL/IM-0011-0001-0002.jpeg</td>\n",
       "      <td>0</td>\n",
       "      <td>0</td>\n",
       "    </tr>\n",
       "    <tr>\n",
       "      <th>9</th>\n",
       "      <td>0.975248</td>\n",
       "      <td>0.024752</td>\n",
       "      <td>NORMAL/IM-0011-0001.jpeg</td>\n",
       "      <td>0</td>\n",
       "      <td>0</td>\n",
       "    </tr>\n",
       "    <tr>\n",
       "      <th>10</th>\n",
       "      <td>0.985462</td>\n",
       "      <td>0.014538</td>\n",
       "      <td>NORMAL/IM-0013-0001.jpeg</td>\n",
       "      <td>0</td>\n",
       "      <td>0</td>\n",
       "    </tr>\n",
       "    <tr>\n",
       "      <th>11</th>\n",
       "      <td>0.639347</td>\n",
       "      <td>0.360653</td>\n",
       "      <td>NORMAL/IM-0015-0001.jpeg</td>\n",
       "      <td>0</td>\n",
       "      <td>0</td>\n",
       "    </tr>\n",
       "    <tr>\n",
       "      <th>12</th>\n",
       "      <td>0.988921</td>\n",
       "      <td>0.011079</td>\n",
       "      <td>NORMAL/IM-0016-0001.jpeg</td>\n",
       "      <td>0</td>\n",
       "      <td>0</td>\n",
       "    </tr>\n",
       "    <tr>\n",
       "      <th>13</th>\n",
       "      <td>0.935805</td>\n",
       "      <td>0.064196</td>\n",
       "      <td>NORMAL/IM-0017-0001.jpeg</td>\n",
       "      <td>0</td>\n",
       "      <td>0</td>\n",
       "    </tr>\n",
       "    <tr>\n",
       "      <th>14</th>\n",
       "      <td>0.862498</td>\n",
       "      <td>0.137502</td>\n",
       "      <td>NORMAL/IM-0019-0001.jpeg</td>\n",
       "      <td>0</td>\n",
       "      <td>0</td>\n",
       "    </tr>\n",
       "    <tr>\n",
       "      <th>15</th>\n",
       "      <td>0.738050</td>\n",
       "      <td>0.261950</td>\n",
       "      <td>NORMAL/IM-0021-0001.jpeg</td>\n",
       "      <td>0</td>\n",
       "      <td>0</td>\n",
       "    </tr>\n",
       "    <tr>\n",
       "      <th>16</th>\n",
       "      <td>0.048556</td>\n",
       "      <td>0.951444</td>\n",
       "      <td>NORMAL/IM-0022-0001.jpeg</td>\n",
       "      <td>0</td>\n",
       "      <td>1</td>\n",
       "    </tr>\n",
       "    <tr>\n",
       "      <th>17</th>\n",
       "      <td>0.995894</td>\n",
       "      <td>0.004106</td>\n",
       "      <td>NORMAL/IM-0023-0001.jpeg</td>\n",
       "      <td>0</td>\n",
       "      <td>0</td>\n",
       "    </tr>\n",
       "    <tr>\n",
       "      <th>18</th>\n",
       "      <td>0.999822</td>\n",
       "      <td>0.000178</td>\n",
       "      <td>NORMAL/IM-0025-0001.jpeg</td>\n",
       "      <td>0</td>\n",
       "      <td>0</td>\n",
       "    </tr>\n",
       "    <tr>\n",
       "      <th>19</th>\n",
       "      <td>0.949244</td>\n",
       "      <td>0.050756</td>\n",
       "      <td>NORMAL/IM-0027-0001.jpeg</td>\n",
       "      <td>0</td>\n",
       "      <td>0</td>\n",
       "    </tr>\n",
       "    <tr>\n",
       "      <th>20</th>\n",
       "      <td>0.905726</td>\n",
       "      <td>0.094274</td>\n",
       "      <td>NORMAL/IM-0028-0001.jpeg</td>\n",
       "      <td>0</td>\n",
       "      <td>0</td>\n",
       "    </tr>\n",
       "    <tr>\n",
       "      <th>21</th>\n",
       "      <td>0.806574</td>\n",
       "      <td>0.193426</td>\n",
       "      <td>NORMAL/IM-0029-0001.jpeg</td>\n",
       "      <td>0</td>\n",
       "      <td>0</td>\n",
       "    </tr>\n",
       "    <tr>\n",
       "      <th>22</th>\n",
       "      <td>0.993665</td>\n",
       "      <td>0.006335</td>\n",
       "      <td>NORMAL/IM-0030-0001.jpeg</td>\n",
       "      <td>0</td>\n",
       "      <td>0</td>\n",
       "    </tr>\n",
       "    <tr>\n",
       "      <th>23</th>\n",
       "      <td>0.993345</td>\n",
       "      <td>0.006655</td>\n",
       "      <td>NORMAL/IM-0031-0001.jpeg</td>\n",
       "      <td>0</td>\n",
       "      <td>0</td>\n",
       "    </tr>\n",
       "    <tr>\n",
       "      <th>24</th>\n",
       "      <td>0.961757</td>\n",
       "      <td>0.038243</td>\n",
       "      <td>NORMAL/IM-0033-0001-0001.jpeg</td>\n",
       "      <td>0</td>\n",
       "      <td>0</td>\n",
       "    </tr>\n",
       "    <tr>\n",
       "      <th>25</th>\n",
       "      <td>0.982204</td>\n",
       "      <td>0.017796</td>\n",
       "      <td>NORMAL/IM-0033-0001-0002.jpeg</td>\n",
       "      <td>0</td>\n",
       "      <td>0</td>\n",
       "    </tr>\n",
       "    <tr>\n",
       "      <th>26</th>\n",
       "      <td>0.968245</td>\n",
       "      <td>0.031755</td>\n",
       "      <td>NORMAL/IM-0033-0001.jpeg</td>\n",
       "      <td>0</td>\n",
       "      <td>0</td>\n",
       "    </tr>\n",
       "    <tr>\n",
       "      <th>27</th>\n",
       "      <td>0.987039</td>\n",
       "      <td>0.012961</td>\n",
       "      <td>NORMAL/IM-0035-0001.jpeg</td>\n",
       "      <td>0</td>\n",
       "      <td>0</td>\n",
       "    </tr>\n",
       "    <tr>\n",
       "      <th>28</th>\n",
       "      <td>0.995162</td>\n",
       "      <td>0.004838</td>\n",
       "      <td>NORMAL/IM-0036-0001.jpeg</td>\n",
       "      <td>0</td>\n",
       "      <td>0</td>\n",
       "    </tr>\n",
       "    <tr>\n",
       "      <th>29</th>\n",
       "      <td>0.735229</td>\n",
       "      <td>0.264771</td>\n",
       "      <td>NORMAL/IM-0037-0001.jpeg</td>\n",
       "      <td>0</td>\n",
       "      <td>0</td>\n",
       "    </tr>\n",
       "    <tr>\n",
       "      <th>30</th>\n",
       "      <td>0.977214</td>\n",
       "      <td>0.022786</td>\n",
       "      <td>NORMAL/IM-0039-0001.jpeg</td>\n",
       "      <td>0</td>\n",
       "      <td>0</td>\n",
       "    </tr>\n",
       "    <tr>\n",
       "      <th>31</th>\n",
       "      <td>0.976469</td>\n",
       "      <td>0.023531</td>\n",
       "      <td>NORMAL/IM-0041-0001.jpeg</td>\n",
       "      <td>0</td>\n",
       "      <td>0</td>\n",
       "    </tr>\n",
       "    <tr>\n",
       "      <th>32</th>\n",
       "      <td>0.917903</td>\n",
       "      <td>0.082097</td>\n",
       "      <td>NORMAL/IM-0043-0001.jpeg</td>\n",
       "      <td>0</td>\n",
       "      <td>0</td>\n",
       "    </tr>\n",
       "    <tr>\n",
       "      <th>33</th>\n",
       "      <td>0.991241</td>\n",
       "      <td>0.008759</td>\n",
       "      <td>NORMAL/IM-0045-0001.jpeg</td>\n",
       "      <td>0</td>\n",
       "      <td>0</td>\n",
       "    </tr>\n",
       "    <tr>\n",
       "      <th>34</th>\n",
       "      <td>0.935699</td>\n",
       "      <td>0.064301</td>\n",
       "      <td>NORMAL/IM-0046-0001.jpeg</td>\n",
       "      <td>0</td>\n",
       "      <td>0</td>\n",
       "    </tr>\n",
       "    <tr>\n",
       "      <th>35</th>\n",
       "      <td>0.992261</td>\n",
       "      <td>0.007739</td>\n",
       "      <td>NORMAL/IM-0049-0001.jpeg</td>\n",
       "      <td>0</td>\n",
       "      <td>0</td>\n",
       "    </tr>\n",
       "    <tr>\n",
       "      <th>36</th>\n",
       "      <td>0.999935</td>\n",
       "      <td>0.000065</td>\n",
       "      <td>NORMAL/IM-0050-0001.jpeg</td>\n",
       "      <td>0</td>\n",
       "      <td>0</td>\n",
       "    </tr>\n",
       "    <tr>\n",
       "      <th>37</th>\n",
       "      <td>0.974798</td>\n",
       "      <td>0.025202</td>\n",
       "      <td>NORMAL/IM-0059-0001.jpeg</td>\n",
       "      <td>0</td>\n",
       "      <td>0</td>\n",
       "    </tr>\n",
       "    <tr>\n",
       "      <th>38</th>\n",
       "      <td>0.998637</td>\n",
       "      <td>0.001363</td>\n",
       "      <td>NORMAL/IM-0061-0001.jpeg</td>\n",
       "      <td>0</td>\n",
       "      <td>0</td>\n",
       "    </tr>\n",
       "    <tr>\n",
       "      <th>39</th>\n",
       "      <td>0.998422</td>\n",
       "      <td>0.001579</td>\n",
       "      <td>NORMAL/IM-0063-0001.jpeg</td>\n",
       "      <td>0</td>\n",
       "      <td>0</td>\n",
       "    </tr>\n",
       "    <tr>\n",
       "      <th>40</th>\n",
       "      <td>0.895836</td>\n",
       "      <td>0.104164</td>\n",
       "      <td>NORMAL/IM-0065-0001.jpeg</td>\n",
       "      <td>0</td>\n",
       "      <td>0</td>\n",
       "    </tr>\n",
       "    <tr>\n",
       "      <th>41</th>\n",
       "      <td>0.998641</td>\n",
       "      <td>0.001359</td>\n",
       "      <td>NORMAL/IM-0067-0001.jpeg</td>\n",
       "      <td>0</td>\n",
       "      <td>0</td>\n",
       "    </tr>\n",
       "    <tr>\n",
       "      <th>42</th>\n",
       "      <td>0.998191</td>\n",
       "      <td>0.001809</td>\n",
       "      <td>NORMAL/IM-0069-0001.jpeg</td>\n",
       "      <td>0</td>\n",
       "      <td>0</td>\n",
       "    </tr>\n",
       "    <tr>\n",
       "      <th>43</th>\n",
       "      <td>0.999969</td>\n",
       "      <td>0.000031</td>\n",
       "      <td>NORMAL/IM-0070-0001.jpeg</td>\n",
       "      <td>0</td>\n",
       "      <td>0</td>\n",
       "    </tr>\n",
       "    <tr>\n",
       "      <th>44</th>\n",
       "      <td>0.834873</td>\n",
       "      <td>0.165127</td>\n",
       "      <td>NORMAL/IM-0071-0001.jpeg</td>\n",
       "      <td>0</td>\n",
       "      <td>0</td>\n",
       "    </tr>\n",
       "    <tr>\n",
       "      <th>45</th>\n",
       "      <td>0.912525</td>\n",
       "      <td>0.087475</td>\n",
       "      <td>NORMAL/IM-0073-0001.jpeg</td>\n",
       "      <td>0</td>\n",
       "      <td>0</td>\n",
       "    </tr>\n",
       "    <tr>\n",
       "      <th>46</th>\n",
       "      <td>0.600679</td>\n",
       "      <td>0.399321</td>\n",
       "      <td>NORMAL/IM-0075-0001.jpeg</td>\n",
       "      <td>0</td>\n",
       "      <td>0</td>\n",
       "    </tr>\n",
       "    <tr>\n",
       "      <th>47</th>\n",
       "      <td>0.563721</td>\n",
       "      <td>0.436279</td>\n",
       "      <td>NORMAL/IM-0077-0001.jpeg</td>\n",
       "      <td>0</td>\n",
       "      <td>0</td>\n",
       "    </tr>\n",
       "    <tr>\n",
       "      <th>48</th>\n",
       "      <td>0.891114</td>\n",
       "      <td>0.108886</td>\n",
       "      <td>NORMAL/IM-0079-0001.jpeg</td>\n",
       "      <td>0</td>\n",
       "      <td>0</td>\n",
       "    </tr>\n",
       "    <tr>\n",
       "      <th>49</th>\n",
       "      <td>0.413164</td>\n",
       "      <td>0.586836</td>\n",
       "      <td>NORMAL/IM-0081-0001.jpeg</td>\n",
       "      <td>0</td>\n",
       "      <td>1</td>\n",
       "    </tr>\n",
       "    <tr>\n",
       "      <th>50</th>\n",
       "      <td>0.989289</td>\n",
       "      <td>0.010711</td>\n",
       "      <td>NORMAL/IM-0083-0001.jpeg</td>\n",
       "      <td>0</td>\n",
       "      <td>0</td>\n",
       "    </tr>\n",
       "    <tr>\n",
       "      <th>51</th>\n",
       "      <td>0.994861</td>\n",
       "      <td>0.005139</td>\n",
       "      <td>NORMAL/IM-0084-0001.jpeg</td>\n",
       "      <td>0</td>\n",
       "      <td>0</td>\n",
       "    </tr>\n",
       "    <tr>\n",
       "      <th>52</th>\n",
       "      <td>0.577404</td>\n",
       "      <td>0.422596</td>\n",
       "      <td>NORMAL/IM-0085-0001.jpeg</td>\n",
       "      <td>0</td>\n",
       "      <td>0</td>\n",
       "    </tr>\n",
       "    <tr>\n",
       "      <th>53</th>\n",
       "      <td>0.997751</td>\n",
       "      <td>0.002249</td>\n",
       "      <td>NORMAL/IM-0086-0001.jpeg</td>\n",
       "      <td>0</td>\n",
       "      <td>0</td>\n",
       "    </tr>\n",
       "    <tr>\n",
       "      <th>54</th>\n",
       "      <td>0.971632</td>\n",
       "      <td>0.028368</td>\n",
       "      <td>NORMAL/IM-0087-0001.jpeg</td>\n",
       "      <td>0</td>\n",
       "      <td>0</td>\n",
       "    </tr>\n",
       "    <tr>\n",
       "      <th>55</th>\n",
       "      <td>0.997520</td>\n",
       "      <td>0.002480</td>\n",
       "      <td>NORMAL/IM-0089-0001.jpeg</td>\n",
       "      <td>0</td>\n",
       "      <td>0</td>\n",
       "    </tr>\n",
       "    <tr>\n",
       "      <th>56</th>\n",
       "      <td>0.873791</td>\n",
       "      <td>0.126209</td>\n",
       "      <td>NORMAL/IM-0091-0001.jpeg</td>\n",
       "      <td>0</td>\n",
       "      <td>0</td>\n",
       "    </tr>\n",
       "    <tr>\n",
       "      <th>57</th>\n",
       "      <td>0.905588</td>\n",
       "      <td>0.094412</td>\n",
       "      <td>NORMAL/IM-0093-0001.jpeg</td>\n",
       "      <td>0</td>\n",
       "      <td>0</td>\n",
       "    </tr>\n",
       "    <tr>\n",
       "      <th>58</th>\n",
       "      <td>0.996696</td>\n",
       "      <td>0.003304</td>\n",
       "      <td>NORMAL/IM-0095-0001.jpeg</td>\n",
       "      <td>0</td>\n",
       "      <td>0</td>\n",
       "    </tr>\n",
       "    <tr>\n",
       "      <th>59</th>\n",
       "      <td>0.934973</td>\n",
       "      <td>0.065028</td>\n",
       "      <td>NORMAL/IM-0097-0001.jpeg</td>\n",
       "      <td>0</td>\n",
       "      <td>0</td>\n",
       "    </tr>\n",
       "  </tbody>\n",
       "</table>\n",
       "</div>"
      ],
      "text/plain": [
       "           0         1                       filename  label  pre\n",
       "0   0.996830  0.003170       NORMAL/IM-0001-0001.jpeg      0    0\n",
       "1   0.925185  0.074815       NORMAL/IM-0003-0001.jpeg      0    0\n",
       "2   0.906884  0.093116       NORMAL/IM-0005-0001.jpeg      0    0\n",
       "3   0.618312  0.381688       NORMAL/IM-0006-0001.jpeg      0    0\n",
       "4   0.990766  0.009234       NORMAL/IM-0007-0001.jpeg      0    0\n",
       "5   0.962648  0.037352       NORMAL/IM-0009-0001.jpeg      0    0\n",
       "6   0.994101  0.005899       NORMAL/IM-0010-0001.jpeg      0    0\n",
       "7   0.963908  0.036092  NORMAL/IM-0011-0001-0001.jpeg      0    0\n",
       "8   0.960096  0.039904  NORMAL/IM-0011-0001-0002.jpeg      0    0\n",
       "9   0.975248  0.024752       NORMAL/IM-0011-0001.jpeg      0    0\n",
       "10  0.985462  0.014538       NORMAL/IM-0013-0001.jpeg      0    0\n",
       "11  0.639347  0.360653       NORMAL/IM-0015-0001.jpeg      0    0\n",
       "12  0.988921  0.011079       NORMAL/IM-0016-0001.jpeg      0    0\n",
       "13  0.935805  0.064196       NORMAL/IM-0017-0001.jpeg      0    0\n",
       "14  0.862498  0.137502       NORMAL/IM-0019-0001.jpeg      0    0\n",
       "15  0.738050  0.261950       NORMAL/IM-0021-0001.jpeg      0    0\n",
       "16  0.048556  0.951444       NORMAL/IM-0022-0001.jpeg      0    1\n",
       "17  0.995894  0.004106       NORMAL/IM-0023-0001.jpeg      0    0\n",
       "18  0.999822  0.000178       NORMAL/IM-0025-0001.jpeg      0    0\n",
       "19  0.949244  0.050756       NORMAL/IM-0027-0001.jpeg      0    0\n",
       "20  0.905726  0.094274       NORMAL/IM-0028-0001.jpeg      0    0\n",
       "21  0.806574  0.193426       NORMAL/IM-0029-0001.jpeg      0    0\n",
       "22  0.993665  0.006335       NORMAL/IM-0030-0001.jpeg      0    0\n",
       "23  0.993345  0.006655       NORMAL/IM-0031-0001.jpeg      0    0\n",
       "24  0.961757  0.038243  NORMAL/IM-0033-0001-0001.jpeg      0    0\n",
       "25  0.982204  0.017796  NORMAL/IM-0033-0001-0002.jpeg      0    0\n",
       "26  0.968245  0.031755       NORMAL/IM-0033-0001.jpeg      0    0\n",
       "27  0.987039  0.012961       NORMAL/IM-0035-0001.jpeg      0    0\n",
       "28  0.995162  0.004838       NORMAL/IM-0036-0001.jpeg      0    0\n",
       "29  0.735229  0.264771       NORMAL/IM-0037-0001.jpeg      0    0\n",
       "30  0.977214  0.022786       NORMAL/IM-0039-0001.jpeg      0    0\n",
       "31  0.976469  0.023531       NORMAL/IM-0041-0001.jpeg      0    0\n",
       "32  0.917903  0.082097       NORMAL/IM-0043-0001.jpeg      0    0\n",
       "33  0.991241  0.008759       NORMAL/IM-0045-0001.jpeg      0    0\n",
       "34  0.935699  0.064301       NORMAL/IM-0046-0001.jpeg      0    0\n",
       "35  0.992261  0.007739       NORMAL/IM-0049-0001.jpeg      0    0\n",
       "36  0.999935  0.000065       NORMAL/IM-0050-0001.jpeg      0    0\n",
       "37  0.974798  0.025202       NORMAL/IM-0059-0001.jpeg      0    0\n",
       "38  0.998637  0.001363       NORMAL/IM-0061-0001.jpeg      0    0\n",
       "39  0.998422  0.001579       NORMAL/IM-0063-0001.jpeg      0    0\n",
       "40  0.895836  0.104164       NORMAL/IM-0065-0001.jpeg      0    0\n",
       "41  0.998641  0.001359       NORMAL/IM-0067-0001.jpeg      0    0\n",
       "42  0.998191  0.001809       NORMAL/IM-0069-0001.jpeg      0    0\n",
       "43  0.999969  0.000031       NORMAL/IM-0070-0001.jpeg      0    0\n",
       "44  0.834873  0.165127       NORMAL/IM-0071-0001.jpeg      0    0\n",
       "45  0.912525  0.087475       NORMAL/IM-0073-0001.jpeg      0    0\n",
       "46  0.600679  0.399321       NORMAL/IM-0075-0001.jpeg      0    0\n",
       "47  0.563721  0.436279       NORMAL/IM-0077-0001.jpeg      0    0\n",
       "48  0.891114  0.108886       NORMAL/IM-0079-0001.jpeg      0    0\n",
       "49  0.413164  0.586836       NORMAL/IM-0081-0001.jpeg      0    1\n",
       "50  0.989289  0.010711       NORMAL/IM-0083-0001.jpeg      0    0\n",
       "51  0.994861  0.005139       NORMAL/IM-0084-0001.jpeg      0    0\n",
       "52  0.577404  0.422596       NORMAL/IM-0085-0001.jpeg      0    0\n",
       "53  0.997751  0.002249       NORMAL/IM-0086-0001.jpeg      0    0\n",
       "54  0.971632  0.028368       NORMAL/IM-0087-0001.jpeg      0    0\n",
       "55  0.997520  0.002480       NORMAL/IM-0089-0001.jpeg      0    0\n",
       "56  0.873791  0.126209       NORMAL/IM-0091-0001.jpeg      0    0\n",
       "57  0.905588  0.094412       NORMAL/IM-0093-0001.jpeg      0    0\n",
       "58  0.996696  0.003304       NORMAL/IM-0095-0001.jpeg      0    0\n",
       "59  0.934973  0.065028       NORMAL/IM-0097-0001.jpeg      0    0"
      ]
     },
     "execution_count": 19,
     "metadata": {},
     "output_type": "execute_result"
    }
   ],
   "source": [
    "pre.head(60)"
   ]
  },
  {
   "cell_type": "code",
   "execution_count": 22,
   "metadata": {},
   "outputs": [],
   "source": [
    "pre.to_csv('PNresults.csv')"
   ]
  },
  {
   "cell_type": "code",
   "execution_count": 23,
   "metadata": {},
   "outputs": [
    {
     "data": {
      "text/plain": [
       "0    204\n",
       "1     30\n",
       "Name: pre, dtype: int64"
      ]
     },
     "execution_count": 23,
     "metadata": {},
     "output_type": "execute_result"
    }
   ],
   "source": [
    "one=pre.loc[pre['label'] == 0]\n",
    "\n",
    "one['pre'].value_counts()"
   ]
  },
  {
   "cell_type": "code",
   "execution_count": 24,
   "metadata": {},
   "outputs": [
    {
     "data": {
      "text/plain": [
       "1    341\n",
       "0     49\n",
       "Name: pre, dtype: int64"
      ]
     },
     "execution_count": 24,
     "metadata": {},
     "output_type": "execute_result"
    }
   ],
   "source": [
    "one=pre.loc[pre['label'] == 1]\n",
    "\n",
    "one['pre'].value_counts()"
   ]
  },
  {
   "cell_type": "code",
   "execution_count": null,
   "metadata": {},
   "outputs": [],
   "source": []
  }
 ],
 "metadata": {
  "kernelspec": {
   "display_name": "Python [conda env:metis] *",
   "language": "python",
   "name": "conda-env-metis-py"
  },
  "language_info": {
   "codemirror_mode": {
    "name": "ipython",
    "version": 3
   },
   "file_extension": ".py",
   "mimetype": "text/x-python",
   "name": "python",
   "nbconvert_exporter": "python",
   "pygments_lexer": "ipython3",
   "version": "3.8.3"
  }
 },
 "nbformat": 4,
 "nbformat_minor": 4
}
